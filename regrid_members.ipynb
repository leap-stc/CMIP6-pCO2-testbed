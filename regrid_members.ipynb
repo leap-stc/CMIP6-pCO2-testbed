{
 "cells": [
  {
   "cell_type": "code",
   "execution_count": 1,
   "id": "ccecd541-461e-4c76-8018-345a488bf5c1",
   "metadata": {
    "tags": []
   },
   "outputs": [],
   "source": [
    "from xmip.utils import google_cmip_col\n",
    "from xmip.preprocessing import combined_preprocessing\n",
    "col = google_cmip_col()"
   ]
  },
  {
   "cell_type": "raw",
   "id": "38d38bef-3242-4e01-ab86-dda86a6def9d",
   "metadata": {},
   "source": [
    "## definitions ##\n",
    "pCO2 = 'spco2'\n",
    "SST = 'tos'\n",
    "SSS = 'sos'\n",
    "Chl = 'chl'\n",
    "MLD = 'mlotst' (Defined by sigma T criterion)"
   ]
  },
  {
   "cell_type": "code",
   "execution_count": 2,
   "id": "a57fcb6e-ca1f-4cbc-ae85-7168a3c2e250",
   "metadata": {
    "tags": []
   },
   "outputs": [],
   "source": [
    "#Other catalog\n",
    "import intake\n",
    "col = intake.open_esm_datastore(\n",
    "    \"https://storage.googleapis.com/leap-persistent-ro/data-library/catalogs/cmip6-test/leap-pangeo-cmip6-test.json\"\n",
    ")\n",
    "cat = col.search(variable_id=['tos', 'sos', 'chl', 'mlotst', 'spco2'], table_id='Omon', source_id=['MRI-ESM2-0'],\n",
    "                 experiment_id=['historical', 'ssp245'])"
   ]
  },
  {
   "cell_type": "code",
   "execution_count": 2,
   "id": "e5bcddd7-4193-4ccb-9e61-8cb483252c58",
   "metadata": {
    "tags": []
   },
   "outputs": [],
   "source": [
    "# filter the full catalog for data we could use\n",
    "cat = col.search(\n",
    "    variable_id=['tos', 'sos', 'chl', 'mlotst', 'spco2'],\n",
    "    table_id='Omon', # monthly ocean output only\n",
    "    experiment_id=['historical', 'ssp245'],\n",
    "    source_id=['CanESM5'],\n",
    "    member_id=['r8i1p2f1'],\n",
    "    # I used ssp245 as example but we should probably use the one that is closest to the data from 2014-2023\n",
    "    require_all_on=['source_id', 'member_id', 'grid_label'] # this ensures that results will have all variables and experiments available\n",
    ")"
   ]
  },
  {
   "cell_type": "code",
   "execution_count": 3,
   "id": "3bd0c508-4def-458e-a5ea-7115f1dde109",
   "metadata": {
    "tags": []
   },
   "outputs": [
    {
     "data": {
      "text/html": [
       "<div>\n",
       "<style scoped>\n",
       "    .dataframe tbody tr th:only-of-type {\n",
       "        vertical-align: middle;\n",
       "    }\n",
       "\n",
       "    .dataframe tbody tr th {\n",
       "        vertical-align: top;\n",
       "    }\n",
       "\n",
       "    .dataframe thead th {\n",
       "        text-align: right;\n",
       "    }\n",
       "</style>\n",
       "<table border=\"1\" class=\"dataframe\">\n",
       "  <thead>\n",
       "    <tr style=\"text-align: right;\">\n",
       "      <th></th>\n",
       "      <th></th>\n",
       "      <th>member_id</th>\n",
       "    </tr>\n",
       "    <tr>\n",
       "      <th>source_id</th>\n",
       "      <th>grid_label</th>\n",
       "      <th></th>\n",
       "    </tr>\n",
       "  </thead>\n",
       "  <tbody>\n",
       "    <tr>\n",
       "      <th>CanESM5</th>\n",
       "      <th>gn</th>\n",
       "      <td>1</td>\n",
       "    </tr>\n",
       "  </tbody>\n",
       "</table>\n",
       "</div>"
      ],
      "text/plain": [
       "                      member_id\n",
       "source_id grid_label           \n",
       "CanESM5   gn                  1"
      ]
     },
     "execution_count": 3,
     "metadata": {},
     "output_type": "execute_result"
    }
   ],
   "source": [
    "cat.df.groupby(['source_id', 'grid_label'])[['member_id']].nunique()"
   ]
  },
  {
   "cell_type": "code",
   "execution_count": 4,
   "id": "e2a761e8-7353-4194-8aaf-d27f4e2913ea",
   "metadata": {
    "tags": []
   },
   "outputs": [
    {
     "data": {
      "text/plain": [
       "array(['r8i1p2f1'], dtype=object)"
      ]
     },
     "execution_count": 4,
     "metadata": {},
     "output_type": "execute_result"
    }
   ],
   "source": [
    "#check which members are there\n",
    "cat.df['member_id'].unique()"
   ]
  },
  {
   "cell_type": "code",
   "execution_count": 5,
   "id": "a94c6975-dabe-43b8-b0da-2bf54506d3f7",
   "metadata": {
    "tags": []
   },
   "outputs": [
    {
     "name": "stdout",
     "output_type": "stream",
     "text": [
      "\n",
      "--> The keys in the returned dictionary of datasets are constructed as follows:\n",
      "\t'activity_id.institution_id.source_id.experiment_id.member_id.table_id.variable_id.grid_label.zstore.dcpp_init_year.version'\n"
     ]
    },
    {
     "data": {
      "text/html": [
       "\n",
       "<style>\n",
       "    /* Turns off some styling */\n",
       "    progress {\n",
       "        /* gets rid of default border in Firefox and Opera. */\n",
       "        border: none;\n",
       "        /* Needs to be in here for Safari polyfill so background images work as expected. */\n",
       "        background-size: auto;\n",
       "    }\n",
       "    progress:not([value]), progress:not([value])::-webkit-progress-bar {\n",
       "        background: repeating-linear-gradient(45deg, #7e7e7e, #7e7e7e 10px, #5c5c5c 10px, #5c5c5c 20px);\n",
       "    }\n",
       "    .progress-bar-interrupted, .progress-bar-interrupted::-webkit-progress-bar {\n",
       "        background: #F44336;\n",
       "    }\n",
       "</style>\n"
      ],
      "text/plain": [
       "<IPython.core.display.HTML object>"
      ]
     },
     "metadata": {},
     "output_type": "display_data"
    },
    {
     "data": {
      "text/html": [
       "\n",
       "    <div>\n",
       "      <progress value='10' class='' max='10' style='width:300px; height:20px; vertical-align: middle;'></progress>\n",
       "      100.00% [10/10 00:03&lt;00:00]\n",
       "    </div>\n",
       "    "
      ],
      "text/plain": [
       "<IPython.core.display.HTML object>"
      ]
     },
     "metadata": {},
     "output_type": "display_data"
    },
    {
     "name": "stderr",
     "output_type": "stream",
     "text": [
      "/srv/conda/envs/notebook/lib/python3.10/site-packages/xmip/preprocessing.py:229: UserWarning: ScenarioMIP.CCCma.CanESM5.ssp245.r8i1p2f1.Omon.gn.v20190429.sos: Unit correction failed with: Cannot parse units:\n",
      "    invalid units for variable 'sos': 0.001 (attribute) (reason: Unit expression cannot have a scaling factor.)\n",
      "  warnings.warn(\n",
      "/srv/conda/envs/notebook/lib/python3.10/site-packages/xmip/preprocessing.py:229: UserWarning: CMIP.CCCma.CanESM5.historical.r8i1p2f1.Omon.gn.v20190429.sos: Unit correction failed with: Cannot parse units:\n",
      "    invalid units for variable 'sos': 0.001 (attribute) (reason: Unit expression cannot have a scaling factor.)\n",
      "  warnings.warn(\n"
     ]
    }
   ],
   "source": [
    "from xmip.preprocessing import combined_preprocessing\n",
    "from xmip.postprocessing import concat_experiments, merge_variables\n",
    "\n",
    "ddict = cat.to_dataset_dict(\n",
    "    preprocess=combined_preprocessing,\n",
    "    xarray_open_kwargs=dict(use_cftime=True),\n",
    "    aggregate=False\n",
    ")"
   ]
  },
  {
   "cell_type": "code",
   "execution_count": 10,
   "id": "22385df0-84d6-40c2-a597-242802ff98ea",
   "metadata": {
    "tags": []
   },
   "outputs": [
    {
     "ename": "NameError",
     "evalue": "name 'ddict_final' is not defined",
     "output_type": "error",
     "traceback": [
      "\u001b[0;31m---------------------------------------------------------------------------\u001b[0m",
      "\u001b[0;31mNameError\u001b[0m                                 Traceback (most recent call last)",
      "Cell \u001b[0;32mIn[10], line 1\u001b[0m\n\u001b[0;32m----> 1\u001b[0m ds \u001b[38;5;241m=\u001b[39m \u001b[43mddict_final\u001b[49m[\u001b[38;5;124m'\u001b[39m\u001b[38;5;124mCanESM5.gn.Omon.r10i1p2f1\u001b[39m\u001b[38;5;124m'\u001b[39m]\n",
      "\u001b[0;31mNameError\u001b[0m: name 'ddict_final' is not defined"
     ]
    }
   ],
   "source": [
    "ds = ddict_final['CanESM5.gn.Omon.r10i1p2f1']"
   ]
  },
  {
   "cell_type": "code",
   "execution_count": 8,
   "id": "aeba525b-86a9-40c2-af0a-491432267c47",
   "metadata": {
    "tags": []
   },
   "outputs": [],
   "source": [
    "ds = ddict"
   ]
  },
  {
   "cell_type": "markdown",
   "id": "1ee81102-5c41-4a02-a49f-cbc512a71351",
   "metadata": {},
   "source": [
    "### Regrid"
   ]
  },
  {
   "cell_type": "code",
   "execution_count": 6,
   "id": "38e4ff10-0c7e-4b74-a8fa-91300b5f2956",
   "metadata": {
    "tags": []
   },
   "outputs": [],
   "source": [
    "import xesmf as xe\n",
    "import xarray as xr\n",
    "from xmip.utils import cmip6_dataset_id\n",
    "\n",
    "\n",
    "def replace_calendar(ds:xr.Dataset) -> xr.Dataset:\n",
    "    year = ds.time.data[0].year\n",
    "    month = ds.time.data[0].month\n",
    "    start_date = f'{year}-{month:0>2}-01'\n",
    "    new_monthly_time = xr.cftime_range(start_date, periods=len(ds.time), freq='1MS')\n",
    "    ds = ds.assign_coords(time=new_monthly_time)\n",
    "    return ds\n",
    "\n",
    "#TODO:  create a regridder dict per source_id (faster)\n",
    "\n",
    "\n",
    "target_grid = xe.util.grid_global(1,1)\n",
    "def regrid(ds:xr.Dataset) -> xr.Dataset:\n",
    "    #FIXME: This should not be done for every dataset\n",
    "    regridder = xe.Regridder(ds, target_grid, 'bilinear', ignore_degenerate=True, periodic=True) #TODO: Check if this should be conservative?\n",
    "    ds_regridded = regridder(ds, keep_attrs=True)\n",
    "    return ds_regridded\n",
    "\n",
    "def full_testbed_processing(ds: xr.Dataset) -> xr.Dataset:\n",
    "    ds = ds.squeeze(drop=True)\n",
    "    # select surface depth (for chl, TODO: Check if surface chlorophyll is available)\n",
    "    ds = ds.isel(lev=0).drop('lev')\n",
    "    \n",
    "    ds = ds.sel(time=slice('1850', '2100'))\n",
    "    \n",
    "    # testing\n",
    "    assert len(ds.time) == 3012\n",
    "    assert ds.time.data[0].year == 1850\n",
    "    \n",
    "    # Processing\n",
    "    ds_regridded = regrid(ds)\n",
    "    ds_new_cal = replace_calendar(ds_regridded)\n",
    "\n",
    "    return ds_new_cal"
   ]
  },
  {
   "cell_type": "code",
   "execution_count": 7,
   "id": "1e556819-5e02-4e6f-9514-10977deaf0f0",
   "metadata": {
    "tags": []
   },
   "outputs": [
    {
     "name": "stdout",
     "output_type": "stream",
     "text": [
      "Processing ScenarioMIP.CCCma.CanESM5.ssp245.r8i1p2f1.Omon.sos.gn.gs://cmip6/CMIP6/ScenarioMIP/CCCma/CanESM5/ssp245/r8i1p2f1/Omon/sos/gn/v20190429/.20190429\n"
     ]
    },
    {
     "ename": "ValueError",
     "evalue": "Dimensions {'lev'} do not exist. Expected one or more of Frozen({'y': 291, 'x': 360, 'time': 1032, 'vertex': 4, 'bnds': 2})",
     "output_type": "error",
     "traceback": [
      "\u001b[0;31m---------------------------------------------------------------------------\u001b[0m",
      "\u001b[0;31mValueError\u001b[0m                                Traceback (most recent call last)",
      "Cell \u001b[0;32mIn[7], line 4\u001b[0m\n\u001b[1;32m      2\u001b[0m \u001b[38;5;28;01mfor\u001b[39;00m k,ds \u001b[38;5;129;01min\u001b[39;00m ddict\u001b[38;5;241m.\u001b[39mitems():\n\u001b[1;32m      3\u001b[0m     \u001b[38;5;28mprint\u001b[39m(\u001b[38;5;124mf\u001b[39m\u001b[38;5;124m\"\u001b[39m\u001b[38;5;124mProcessing \u001b[39m\u001b[38;5;132;01m{\u001b[39;00mk\u001b[38;5;132;01m}\u001b[39;00m\u001b[38;5;124m\"\u001b[39m)\n\u001b[0;32m----> 4\u001b[0m     ds_out \u001b[38;5;241m=\u001b[39m \u001b[43mfull_testbed_processing\u001b[49m\u001b[43m(\u001b[49m\u001b[43mds\u001b[49m\u001b[43m)\u001b[49m\n\u001b[1;32m      6\u001b[0m     ds_id \u001b[38;5;241m=\u001b[39m cmip6_dataset_id(ds_out, id_attrs\u001b[38;5;241m=\u001b[39m[\n\u001b[1;32m      7\u001b[0m     \u001b[38;5;124m'\u001b[39m\u001b[38;5;124msource_id\u001b[39m\u001b[38;5;124m'\u001b[39m,\n\u001b[1;32m      8\u001b[0m     \u001b[38;5;124m'\u001b[39m\u001b[38;5;124mvariant_label\u001b[39m\u001b[38;5;124m'\u001b[39m,\n\u001b[0;32m   (...)\u001b[0m\n\u001b[1;32m     11\u001b[0m     \u001b[38;5;124m'\u001b[39m\u001b[38;5;124mversion\u001b[39m\u001b[38;5;124m'\u001b[39m,\n\u001b[1;32m     12\u001b[0m     ])\n\u001b[1;32m     13\u001b[0m     save_path \u001b[38;5;241m=\u001b[39m \u001b[38;5;124mf\u001b[39m\u001b[38;5;124m\"\u001b[39m\u001b[38;5;124mgs://leap-scratch/jbusecke/pco2-testing/\u001b[39m\u001b[38;5;132;01m{\u001b[39;00mds_id\u001b[38;5;132;01m}\u001b[39;00m\u001b[38;5;124m\"\u001b[39m\n",
      "Cell \u001b[0;32mIn[6], line 27\u001b[0m, in \u001b[0;36mfull_testbed_processing\u001b[0;34m(ds)\u001b[0m\n\u001b[1;32m     25\u001b[0m ds \u001b[38;5;241m=\u001b[39m ds\u001b[38;5;241m.\u001b[39msqueeze(drop\u001b[38;5;241m=\u001b[39m\u001b[38;5;28;01mTrue\u001b[39;00m)\n\u001b[1;32m     26\u001b[0m \u001b[38;5;66;03m# select surface depth (for chl, TODO: Check if surface chlorophyll is available)\u001b[39;00m\n\u001b[0;32m---> 27\u001b[0m ds \u001b[38;5;241m=\u001b[39m \u001b[43mds\u001b[49m\u001b[38;5;241;43m.\u001b[39;49m\u001b[43misel\u001b[49m\u001b[43m(\u001b[49m\u001b[43mlev\u001b[49m\u001b[38;5;241;43m=\u001b[39;49m\u001b[38;5;241;43m0\u001b[39;49m\u001b[43m)\u001b[49m\u001b[38;5;241m.\u001b[39mdrop(\u001b[38;5;124m'\u001b[39m\u001b[38;5;124mlev\u001b[39m\u001b[38;5;124m'\u001b[39m)\n\u001b[1;32m     29\u001b[0m ds \u001b[38;5;241m=\u001b[39m ds\u001b[38;5;241m.\u001b[39msel(time\u001b[38;5;241m=\u001b[39m\u001b[38;5;28mslice\u001b[39m(\u001b[38;5;124m'\u001b[39m\u001b[38;5;124m1850\u001b[39m\u001b[38;5;124m'\u001b[39m, \u001b[38;5;124m'\u001b[39m\u001b[38;5;124m2100\u001b[39m\u001b[38;5;124m'\u001b[39m))\n\u001b[1;32m     31\u001b[0m \u001b[38;5;66;03m# testing\u001b[39;00m\n",
      "File \u001b[0;32m/srv/conda/envs/notebook/lib/python3.10/site-packages/xarray/core/dataset.py:2878\u001b[0m, in \u001b[0;36mDataset.isel\u001b[0;34m(self, indexers, drop, missing_dims, **indexers_kwargs)\u001b[0m\n\u001b[1;32m   2874\u001b[0m     \u001b[38;5;28;01mreturn\u001b[39;00m \u001b[38;5;28mself\u001b[39m\u001b[38;5;241m.\u001b[39m_isel_fancy(indexers, drop\u001b[38;5;241m=\u001b[39mdrop, missing_dims\u001b[38;5;241m=\u001b[39mmissing_dims)\n\u001b[1;32m   2876\u001b[0m \u001b[38;5;66;03m# Much faster algorithm for when all indexers are ints, slices, one-dimensional\u001b[39;00m\n\u001b[1;32m   2877\u001b[0m \u001b[38;5;66;03m# lists, or zero or one-dimensional np.ndarray's\u001b[39;00m\n\u001b[0;32m-> 2878\u001b[0m indexers \u001b[38;5;241m=\u001b[39m \u001b[43mdrop_dims_from_indexers\u001b[49m\u001b[43m(\u001b[49m\u001b[43mindexers\u001b[49m\u001b[43m,\u001b[49m\u001b[43m \u001b[49m\u001b[38;5;28;43mself\u001b[39;49m\u001b[38;5;241;43m.\u001b[39;49m\u001b[43mdims\u001b[49m\u001b[43m,\u001b[49m\u001b[43m \u001b[49m\u001b[43mmissing_dims\u001b[49m\u001b[43m)\u001b[49m\n\u001b[1;32m   2880\u001b[0m variables \u001b[38;5;241m=\u001b[39m {}\n\u001b[1;32m   2881\u001b[0m dims: \u001b[38;5;28mdict\u001b[39m[Hashable, \u001b[38;5;28mint\u001b[39m] \u001b[38;5;241m=\u001b[39m {}\n",
      "File \u001b[0;32m/srv/conda/envs/notebook/lib/python3.10/site-packages/xarray/core/utils.py:858\u001b[0m, in \u001b[0;36mdrop_dims_from_indexers\u001b[0;34m(indexers, dims, missing_dims)\u001b[0m\n\u001b[1;32m    856\u001b[0m     invalid \u001b[38;5;241m=\u001b[39m indexers\u001b[38;5;241m.\u001b[39mkeys() \u001b[38;5;241m-\u001b[39m \u001b[38;5;28mset\u001b[39m(dims)\n\u001b[1;32m    857\u001b[0m     \u001b[38;5;28;01mif\u001b[39;00m invalid:\n\u001b[0;32m--> 858\u001b[0m         \u001b[38;5;28;01mraise\u001b[39;00m \u001b[38;5;167;01mValueError\u001b[39;00m(\n\u001b[1;32m    859\u001b[0m             \u001b[38;5;124mf\u001b[39m\u001b[38;5;124m\"\u001b[39m\u001b[38;5;124mDimensions \u001b[39m\u001b[38;5;132;01m{\u001b[39;00minvalid\u001b[38;5;132;01m}\u001b[39;00m\u001b[38;5;124m do not exist. Expected one or more of \u001b[39m\u001b[38;5;132;01m{\u001b[39;00mdims\u001b[38;5;132;01m}\u001b[39;00m\u001b[38;5;124m\"\u001b[39m\n\u001b[1;32m    860\u001b[0m         )\n\u001b[1;32m    862\u001b[0m     \u001b[38;5;28;01mreturn\u001b[39;00m indexers\n\u001b[1;32m    864\u001b[0m \u001b[38;5;28;01melif\u001b[39;00m missing_dims \u001b[38;5;241m==\u001b[39m \u001b[38;5;124m\"\u001b[39m\u001b[38;5;124mwarn\u001b[39m\u001b[38;5;124m\"\u001b[39m:\n\u001b[1;32m    865\u001b[0m     \u001b[38;5;66;03m# don't modify input\u001b[39;00m\n",
      "\u001b[0;31mValueError\u001b[0m: Dimensions {'lev'} do not exist. Expected one or more of Frozen({'y': 291, 'x': 360, 'time': 1032, 'vertex': 4, 'bnds': 2})"
     ]
    }
   ],
   "source": [
    "from dask.diagnostics import ProgressBar\n",
    "for k,ds in ddict.items():\n",
    "    print(f\"Processing {k}\")\n",
    "    ds_out = full_testbed_processing(ds)\n",
    "    \n",
    "    ds_id = cmip6_dataset_id(ds_out, id_attrs=[\n",
    "    'source_id',\n",
    "    'variant_label',\n",
    "    'table_id',\n",
    "    'grid_label',\n",
    "    'version',\n",
    "    ])\n",
    "    save_path = f\"gs://leap-scratch/jbusecke/pco2-testing/{ds_id}\"\n",
    "    print(f\"Writing to {save_path = }\")\n",
    "    with ProgressBar():\n",
    "        ds_out.chunk({'time':200}).to_zarr(save_path, mode='w')"
   ]
  },
  {
   "cell_type": "code",
   "execution_count": null,
   "id": "cdc77231-9aab-4590-9058-ab09fdf4c490",
   "metadata": {},
   "outputs": [],
   "source": []
  },
  {
   "cell_type": "code",
   "execution_count": null,
   "id": "5c8d1f04-f5a9-4ba0-94b3-5d1636f572ca",
   "metadata": {},
   "outputs": [],
   "source": []
  },
  {
   "cell_type": "code",
   "execution_count": null,
   "id": "e6a971d8-5c03-4cbc-accb-1ae660d2d3f3",
   "metadata": {},
   "outputs": [],
   "source": []
  },
  {
   "cell_type": "code",
   "execution_count": 1,
   "id": "5100a82b-ccc4-44c4-8ced-b59263d213cf",
   "metadata": {
    "tags": []
   },
   "outputs": [],
   "source": [
    "#Select CanESM5 only\n",
    "import intake\n",
    "col = intake.open_esm_datastore(\n",
    "    \"https://storage.googleapis.com/leap-persistent-ro/data-library/catalogs/cmip6-test/leap-pangeo-cmip6-test.json\"\n",
    ")\n",
    "cat = col.search(variable_id=['tos', 'sos', 'chl', 'mlotst', 'spco2'], table_id='Omon', source_id=['CanESM5'],\n",
    "                 experiment_id=['historical', 'ssp245'])"
   ]
  },
  {
   "cell_type": "code",
   "execution_count": 5,
   "id": "4b82944b-8bb5-43cd-8848-dc401360d70d",
   "metadata": {
    "tags": []
   },
   "outputs": [],
   "source": [
    "#Select all models\n",
    "import intake\n",
    "col = intake.open_esm_datastore(\n",
    "    \"https://storage.googleapis.com/leap-persistent-ro/data-library/catalogs/cmip6-test/leap-pangeo-cmip6-test.json\"\n",
    ")\n",
    "cat = col.search(variable_id=['tos', 'sos', 'chl', 'mlotst', 'spco2'], table_id='Omon',\n",
    "                 experiment_id=['historical', 'ssp245'])"
   ]
  },
  {
   "cell_type": "code",
   "execution_count": 3,
   "id": "11041a2d-bf13-42f4-b541-2c2be23647c1",
   "metadata": {
    "tags": []
   },
   "outputs": [
    {
     "data": {
      "text/plain": [
       "array(['r37i1p2f1', 'r31i1p2f1', 'r29i1p2f1', 'r36i1p2f1', 'r26i1p2f1',\n",
       "       'r27i1p2f1', 'r35i1p2f1', 'r33i1p2f1', 'r40i1p2f1', 'r32i1p2f1',\n",
       "       'r30i1p2f1', 'r34i1p2f1', 'r28i1p2f1', 'r38i1p2f1', 'r39i1p2f1'],\n",
       "      dtype=object)"
      ]
     },
     "execution_count": 3,
     "metadata": {},
     "output_type": "execute_result"
    }
   ],
   "source": [
    "#check which members are there\n",
    "cat.df['member_id'].unique()"
   ]
  },
  {
   "cell_type": "code",
   "execution_count": 3,
   "id": "40319fa6-5019-4507-a891-6805f0265ad0",
   "metadata": {
    "tags": []
   },
   "outputs": [
    {
     "data": {
      "text/html": [
       "<div>\n",
       "<style scoped>\n",
       "    .dataframe tbody tr th:only-of-type {\n",
       "        vertical-align: middle;\n",
       "    }\n",
       "\n",
       "    .dataframe tbody tr th {\n",
       "        vertical-align: top;\n",
       "    }\n",
       "\n",
       "    .dataframe thead th {\n",
       "        text-align: right;\n",
       "    }\n",
       "</style>\n",
       "<table border=\"1\" class=\"dataframe\">\n",
       "  <thead>\n",
       "    <tr style=\"text-align: right;\">\n",
       "      <th></th>\n",
       "      <th></th>\n",
       "      <th>member_id</th>\n",
       "    </tr>\n",
       "    <tr>\n",
       "      <th>source_id</th>\n",
       "      <th>grid_label</th>\n",
       "      <th></th>\n",
       "    </tr>\n",
       "  </thead>\n",
       "  <tbody>\n",
       "    <tr>\n",
       "      <th>ACCESS-CM2</th>\n",
       "      <th>gn</th>\n",
       "      <td>2</td>\n",
       "    </tr>\n",
       "    <tr>\n",
       "      <th>ACCESS-ESM1-5</th>\n",
       "      <th>gn</th>\n",
       "      <td>37</td>\n",
       "    </tr>\n",
       "    <tr>\n",
       "      <th>CAS-ESM2-0</th>\n",
       "      <th>gn</th>\n",
       "      <td>2</td>\n",
       "    </tr>\n",
       "    <tr>\n",
       "      <th>CMCC-CM2-HR4</th>\n",
       "      <th>gn</th>\n",
       "      <td>1</td>\n",
       "    </tr>\n",
       "    <tr>\n",
       "      <th>CMCC-CM2-SR5</th>\n",
       "      <th>gn</th>\n",
       "      <td>11</td>\n",
       "    </tr>\n",
       "    <tr>\n",
       "      <th>CMCC-ESM2</th>\n",
       "      <th>gn</th>\n",
       "      <td>1</td>\n",
       "    </tr>\n",
       "    <tr>\n",
       "      <th>CNRM-CM6-1</th>\n",
       "      <th>gn</th>\n",
       "      <td>1</td>\n",
       "    </tr>\n",
       "    <tr>\n",
       "      <th>CNRM-ESM2-1</th>\n",
       "      <th>gn</th>\n",
       "      <td>5</td>\n",
       "    </tr>\n",
       "    <tr>\n",
       "      <th>CanESM5</th>\n",
       "      <th>gn</th>\n",
       "      <td>15</td>\n",
       "    </tr>\n",
       "    <tr>\n",
       "      <th>CanESM5-1</th>\n",
       "      <th>gn</th>\n",
       "      <td>2</td>\n",
       "    </tr>\n",
       "    <tr>\n",
       "      <th rowspan=\"2\" valign=\"top\">EC-Earth3</th>\n",
       "      <th>gn</th>\n",
       "      <td>87</td>\n",
       "    </tr>\n",
       "    <tr>\n",
       "      <th>gr</th>\n",
       "      <td>1</td>\n",
       "    </tr>\n",
       "    <tr>\n",
       "      <th>EC-Earth3-AerChem</th>\n",
       "      <th>gn</th>\n",
       "      <td>1</td>\n",
       "    </tr>\n",
       "    <tr>\n",
       "      <th>EC-Earth3-CC</th>\n",
       "      <th>gn</th>\n",
       "      <td>10</td>\n",
       "    </tr>\n",
       "    <tr>\n",
       "      <th rowspan=\"2\" valign=\"top\">EC-Earth3-Veg</th>\n",
       "      <th>gn</th>\n",
       "      <td>7</td>\n",
       "    </tr>\n",
       "    <tr>\n",
       "      <th>gr</th>\n",
       "      <td>1</td>\n",
       "    </tr>\n",
       "    <tr>\n",
       "      <th>EC-Earth3-Veg-LR</th>\n",
       "      <th>gn</th>\n",
       "      <td>3</td>\n",
       "    </tr>\n",
       "    <tr>\n",
       "      <th>FGOALS-g3</th>\n",
       "      <th>gn</th>\n",
       "      <td>3</td>\n",
       "    </tr>\n",
       "    <tr>\n",
       "      <th rowspan=\"2\" valign=\"top\">GFDL-ESM4</th>\n",
       "      <th>gn</th>\n",
       "      <td>2</td>\n",
       "    </tr>\n",
       "    <tr>\n",
       "      <th>gr</th>\n",
       "      <td>2</td>\n",
       "    </tr>\n",
       "    <tr>\n",
       "      <th>GISS-E2-1-G</th>\n",
       "      <th>gn</th>\n",
       "      <td>15</td>\n",
       "    </tr>\n",
       "    <tr>\n",
       "      <th>GISS-E2-1-H</th>\n",
       "      <th>gn</th>\n",
       "      <td>5</td>\n",
       "    </tr>\n",
       "    <tr>\n",
       "      <th>GISS-E2-2-G</th>\n",
       "      <th>gn</th>\n",
       "      <td>5</td>\n",
       "    </tr>\n",
       "    <tr>\n",
       "      <th>HadGEM3-GC31-LL</th>\n",
       "      <th>gn</th>\n",
       "      <td>53</td>\n",
       "    </tr>\n",
       "    <tr>\n",
       "      <th>ICON-ESM-LR</th>\n",
       "      <th>gn</th>\n",
       "      <td>5</td>\n",
       "    </tr>\n",
       "    <tr>\n",
       "      <th>IPSL-CM5A2-INCA</th>\n",
       "      <th>gn</th>\n",
       "      <td>1</td>\n",
       "    </tr>\n",
       "    <tr>\n",
       "      <th>IPSL-CM6A-LR</th>\n",
       "      <th>gn</th>\n",
       "      <td>1</td>\n",
       "    </tr>\n",
       "    <tr>\n",
       "      <th>IPSL-CM6A-LR-INCA</th>\n",
       "      <th>gn</th>\n",
       "      <td>1</td>\n",
       "    </tr>\n",
       "    <tr>\n",
       "      <th>KIOST-ESM</th>\n",
       "      <th>gr1</th>\n",
       "      <td>1</td>\n",
       "    </tr>\n",
       "    <tr>\n",
       "      <th>MIROC-ES2H</th>\n",
       "      <th>gn</th>\n",
       "      <td>3</td>\n",
       "    </tr>\n",
       "    <tr>\n",
       "      <th rowspan=\"2\" valign=\"top\">MIROC-ES2L</th>\n",
       "      <th>gn</th>\n",
       "      <td>30</td>\n",
       "    </tr>\n",
       "    <tr>\n",
       "      <th>gr1</th>\n",
       "      <td>30</td>\n",
       "    </tr>\n",
       "    <tr>\n",
       "      <th>MIROC6</th>\n",
       "      <th>gn</th>\n",
       "      <td>29</td>\n",
       "    </tr>\n",
       "    <tr>\n",
       "      <th>MPI-ESM-1-2-HAM</th>\n",
       "      <th>gn</th>\n",
       "      <td>1</td>\n",
       "    </tr>\n",
       "    <tr>\n",
       "      <th>MPI-ESM1-2-LR</th>\n",
       "      <th>gn</th>\n",
       "      <td>21</td>\n",
       "    </tr>\n",
       "    <tr>\n",
       "      <th rowspan=\"2\" valign=\"top\">MRI-ESM2-0</th>\n",
       "      <th>gn</th>\n",
       "      <td>10</td>\n",
       "    </tr>\n",
       "    <tr>\n",
       "      <th>gr</th>\n",
       "      <td>9</td>\n",
       "    </tr>\n",
       "    <tr>\n",
       "      <th>NorCPM1</th>\n",
       "      <th>gn</th>\n",
       "      <td>22</td>\n",
       "    </tr>\n",
       "    <tr>\n",
       "      <th rowspan=\"2\" valign=\"top\">NorESM2-LM</th>\n",
       "      <th>gn</th>\n",
       "      <td>10</td>\n",
       "    </tr>\n",
       "    <tr>\n",
       "      <th>gr</th>\n",
       "      <td>10</td>\n",
       "    </tr>\n",
       "    <tr>\n",
       "      <th>NorESM2-MM</th>\n",
       "      <th>gn</th>\n",
       "      <td>1</td>\n",
       "    </tr>\n",
       "    <tr>\n",
       "      <th>UKESM1-0-LL</th>\n",
       "      <th>gn</th>\n",
       "      <td>10</td>\n",
       "    </tr>\n",
       "    <tr>\n",
       "      <th>UKESM1-1-LL</th>\n",
       "      <th>gn</th>\n",
       "      <td>1</td>\n",
       "    </tr>\n",
       "  </tbody>\n",
       "</table>\n",
       "</div>"
      ],
      "text/plain": [
       "                              member_id\n",
       "source_id         grid_label           \n",
       "ACCESS-CM2        gn                  2\n",
       "ACCESS-ESM1-5     gn                 37\n",
       "CAS-ESM2-0        gn                  2\n",
       "CMCC-CM2-HR4      gn                  1\n",
       "CMCC-CM2-SR5      gn                 11\n",
       "CMCC-ESM2         gn                  1\n",
       "CNRM-CM6-1        gn                  1\n",
       "CNRM-ESM2-1       gn                  5\n",
       "CanESM5           gn                 15\n",
       "CanESM5-1         gn                  2\n",
       "EC-Earth3         gn                 87\n",
       "                  gr                  1\n",
       "EC-Earth3-AerChem gn                  1\n",
       "EC-Earth3-CC      gn                 10\n",
       "EC-Earth3-Veg     gn                  7\n",
       "                  gr                  1\n",
       "EC-Earth3-Veg-LR  gn                  3\n",
       "FGOALS-g3         gn                  3\n",
       "GFDL-ESM4         gn                  2\n",
       "                  gr                  2\n",
       "GISS-E2-1-G       gn                 15\n",
       "GISS-E2-1-H       gn                  5\n",
       "GISS-E2-2-G       gn                  5\n",
       "HadGEM3-GC31-LL   gn                 53\n",
       "ICON-ESM-LR       gn                  5\n",
       "IPSL-CM5A2-INCA   gn                  1\n",
       "IPSL-CM6A-LR      gn                  1\n",
       "IPSL-CM6A-LR-INCA gn                  1\n",
       "KIOST-ESM         gr1                 1\n",
       "MIROC-ES2H        gn                  3\n",
       "MIROC-ES2L        gn                 30\n",
       "                  gr1                30\n",
       "MIROC6            gn                 29\n",
       "MPI-ESM-1-2-HAM   gn                  1\n",
       "MPI-ESM1-2-LR     gn                 21\n",
       "MRI-ESM2-0        gn                 10\n",
       "                  gr                  9\n",
       "NorCPM1           gn                 22\n",
       "NorESM2-LM        gn                 10\n",
       "                  gr                 10\n",
       "NorESM2-MM        gn                  1\n",
       "UKESM1-0-LL       gn                 10\n",
       "UKESM1-1-LL       gn                  1"
      ]
     },
     "execution_count": 3,
     "metadata": {},
     "output_type": "execute_result"
    }
   ],
   "source": [
    "cat.df.groupby(['source_id', 'grid_label'])[['member_id']].nunique()"
   ]
  },
  {
   "cell_type": "markdown",
   "id": "7f0ee5be-a709-4987-a592-91afbe4b2a26",
   "metadata": {},
   "source": [
    "xCO2 for each model? Should be the same if the same ssp scenario is used?\n",
    "\n",
    "For each member dataset\n",
    "- concatenate historical and ssp245\n",
    "- homogenize time calendar \n",
    "- merge variables (SST, SSS, mld, chl, pCO2)\n",
    "- regrid 1x1 degree, monthly\n",
    "\n",
    "\n",
    "\n",
    "\n"
   ]
  },
  {
   "cell_type": "code",
   "execution_count": null,
   "id": "bf449381-8ce7-4ba2-97e7-f05d8baa7961",
   "metadata": {},
   "outputs": [],
   "source": []
  },
  {
   "cell_type": "raw",
   "id": "2e8cb9f1-2b1d-4dd5-bde6-891730090f8b",
   "metadata": {},
   "source": [
    "Once you’ve identified data assets of interest, you can load them into xarray dataset containers using intake-esm’s to_dataset_dict() function. Invoking this function yields a Python dictionary of high-level aggregated xarray datasets.\n",
    "\n",
    "Though these aggregation specifications are sufficient to merge individual data assets into xarray datasets, sometimes additional arguments must be provided depending on the format of the data assets. For example, Zarr-based assets can be loaded with the option consolidated=True, which relies on a consolidated metadata file to describe the assets with minimal data egress:"
   ]
  },
  {
   "cell_type": "code",
   "execution_count": null,
   "id": "5673ef7c-ac65-4677-b9a0-f48ecbe4328d",
   "metadata": {},
   "outputs": [],
   "source": [
    "dsets = cat.to_dataset_dict(zarr_kwargs={'consolidated': True},\n",
    "                                   storage_options={'token': 'anon'})\n",
    "# list all merged datasets\n",
    "[key for key in dsets.keys()]"
   ]
  },
  {
   "cell_type": "raw",
   "id": "e14a9ab6-30f1-440b-8691-190a65b4be90",
   "metadata": {},
   "source": [
    "When the datasets have finished loading, we can extract any of them like we would a value in a Python dictionary:"
   ]
  },
  {
   "cell_type": "code",
   "execution_count": null,
   "id": "543bab46-ef4b-4847-8c61-1bca2f3e3d86",
   "metadata": {},
   "outputs": [],
   "source": [
    "ds = dsets['ScenarioMIP.THU.CIESM.ssp585.Amon.gr']\n",
    "ds"
   ]
  },
  {
   "cell_type": "raw",
   "id": "5049efef-fd7d-4565-9ddd-3c566e5a51d9",
   "metadata": {},
   "source": [
    "Once you are comfortable with the basic intake-esm features, you may notice that many datasets cannot be easily combined and manipulated without some time consuming debugging. Julius Busecke’s very useful package, cmip6_preprocessing, can be added which does some of this cleanup for you - especially for the very tricky ‘Omon’ datasets. "
   ]
  },
  {
   "cell_type": "code",
   "execution_count": null,
   "id": "604037fc-cce3-4d00-8c37-cc93dfa7404e",
   "metadata": {},
   "outputs": [],
   "source": [
    "from cmip6_preprocessing.preprocessing import combined_preprocessing"
   ]
  },
  {
   "cell_type": "code",
   "execution_count": null,
   "id": "bce6da8a-57e8-453f-9bf4-81bdb2c6bceb",
   "metadata": {},
   "outputs": [],
   "source": [
    "dsets = col_subset.to_dataset_dict(\n",
    "  zarr_kwargs={'consolidated': True, 'decode_times':False},\n",
    "  aggregate=True,\n",
    "  preprocess=combined_preprocessing,\n",
    "  storage_options={'token': 'anon'}\n",
    ")"
   ]
  },
  {
   "cell_type": "code",
   "execution_count": null,
   "id": "5757e4fd-d619-4cba-bca8-62d78d4cdb26",
   "metadata": {},
   "outputs": [],
   "source": []
  }
 ],
 "metadata": {
  "kernelspec": {
   "display_name": "Python 3 (ipykernel)",
   "language": "python",
   "name": "python3"
  },
  "language_info": {
   "codemirror_mode": {
    "name": "ipython",
    "version": 3
   },
   "file_extension": ".py",
   "mimetype": "text/x-python",
   "name": "python",
   "nbconvert_exporter": "python",
   "pygments_lexer": "ipython3",
   "version": "3.10.12"
  }
 },
 "nbformat": 4,
 "nbformat_minor": 5
}
